{
 "cells": [
  {
   "cell_type": "markdown",
   "id": "cca64194-d17b-436e-b4a4-1b0e8ef61f57",
   "metadata": {},
   "source": [
    "# December 2000\n",
    "\n",
    "Greetings of the Season Once Again!\n",
    "\n",
    "This has been a year of changes, growth and a myriad of old and new experiences for the Ghoniems.  Once again I am listening to relaxing\n",
    "instrumental holiday carols on my headset.  I am hoping this will help me get into the Holiday mood, but I mainly use it to drown out the techno\n",
    "music that is blasting and blaring throughout the house\n",
    "\n",
    "Nasr is enjoying his work this year.  He spends at least one day a week, sometimes two, working at home.  Between the computer and telephone\n",
    "conferencing, he really only has to be at the university one afternoon a week to teach his class. He has gotten the house spruced up for the\n",
    "holidays and now he is just sitting back and admiring the fruits of his labor and sweating over the bills.  You would think at this point in his\n",
    "life he would have figured out that the big fancy things we buy will eventually come back to bite us with a big bill.  However, he still\n",
    "grumbles over it. (Is that a man thing?)  Nasr traveled again this year.  He spent over a month in Hong Kong, and then spent weeks in Japan,\n",
    "Paris, Barcelona, Boston, San Francisco, and Alexandria, Egypt, just to name a few.  He did take Ami, Jazz, and myself on a couple of trips this\n",
    "year.  We can now prove that these are not as stressful as he claims.  Of course, some may feel that seeing ancient and not so ancient sights\n",
    "and dining out every night on exotic foods with great friends and family may be stressful, but I'm not one of them.  Are you?\n",
    "\n",
    "Virginia has been promoted to Principal.  I am now the Principal at Pomelo Elementary in West Hills. This school is not the typical Los Angeles\n",
    "school, but it still comes with its own peculiar challenges.  It is one of the highest-ranking schools in the district and of course, there is\n",
    "no pressure on Virginia to continue this legacy.  (I'm lying!)  All the time that Nasr gets to spend at home, I'm making up for it at work.  I\n",
    "put in long hours both at work and at home.  (This does not add any stress at home, either.)  This year I had the opportunity to travel to Hong\n",
    "Kong and Japan with Nasr.  I still cannot believe that I've been to the South Pacific during the monsoon season.  Yes, it is warm and wet, but\n",
    "very green.  We stayed on the Kowloon Peninsula on the 17th floor of the Harbor Plaza hotel overlooking Victoria Bay with a view of the lights\n",
    "of the high rise buildings on Hong Kong Island.  Oh so romantic!  (Did I tell you Jazz traveled with us?) (Note to self--Take a companion for\n",
    "Jazz so she can have her own room.)  Hong Kong is made up of over 200 islands and each one a treasure and a sight to see.  We have great friends\n",
    "in Hong Kong who made our stay fun-filled and exciting.   We then traveled to Japan and traveled the length of it from Hiroshima, to Kyoto to\n",
    "Tokyo.  It is clean and very organized.  With my new job, I actually have my summers off and Nasr already has tickets to travel.  The past\n",
    "couple of years we have not had the chance to travel together so expect some interesting travel exploits next year.\n",
    "\n",
    "Ami is a senior at UCLA.  She is taking 20, 19 and 18 units respectively over the quarters this year.  Yes, she is very busy.  She plans to\n",
    "attend graduate school next year in Electrical Engineering.   She applied to Stanford, Berkley and San Diego.  It looks like this will be the\n",
    "last year we have Ami at home with us.  (I may need psychological help to handle her moving out.  The tone of next year's letter will tell you\n",
    "how it has affected my sanity.)  Ami has discovered ancient --no make that modern Egyptian treasures.   This summer she traveled to Europe and\n",
    "Egypt with her dad and discovered golden twinkling treasures and the jeweled sparkling Mediterranean Sea.  (Translation:  She found new friends,\n",
    "nightclubs in which to dance and a white sandy beach on which to play and sunbathe, while Dad was relaxing with his friends and family.)  There\n",
    "is an old Egyptian belief that once you drink the water of the Nile, you must return.  I don't know how much Nile water Ami drank, but she loved\n",
    "Egypt so much that she is going back in December.  However, I don't think that it is the Nile that is beckoning her.  I think it has more to do\n",
    "with the fact that she will be celebrating New Years and her 21st birthday in the European party resort--Sharm El Sheik on the Red Sea.  Ami\n",
    "will be snorkeling in the most beautiful water during the day and dancing the night away in the most expensive nightclubs in Egypt.  Mom and Dad\n",
    "have already begun to hyperventilate.  We keep telling ourselves that she is or almost is 21 and she deserves this trip because of her good\n",
    "grades and being an all around good kid, but she is going by herself.  This saga to be continued in the next letter.\n",
    "\n",
    "Adam is 18 and is a freshman at the University of California at Santa Barbara .  He is staying in a dorm that overlooks the Pacific Ocean.  If you have been reading these letters over the years, you will recall that Nasr spent a sabbatical in Santa Barbara.  The view, according to Adam, hasn't changed.  The beaches are still filled with bikini-clad bodies and muscled surfers in wet suits.  Yes, Adam is really studying.  He is studying to be an Electrical Engineer.  (I think there is an echo from a previous child, and a little pressure from Dad.)  If you recall, in my last letter I spoke of the Adam's dreaded disease--senior-itis.  If I gave you the impression that the disease was bad in December, let me tell you, by June is was ALMOST incurable.  I received a phone call two days before graduation that Adam may not graduate because he didn't like to attend art class! (Of course, Nasr was in Washington D.C at the time.)  I don't know who suffered more from the disease, Mom or Adam.  It turned out that he made the number of classes that he is allowed to miss by only one!  He did graduate and now he is doing very well in Santa Barbara.  All the words of encouragement that we gave him finally sunk in.  Or maybe it was someone who has more influence on him told him he could get straight A's.  He's on his way to getting them.  He got a 100% and a 90% on two chemistry midterms.  He finds chemistry easy.  Now he realizes that school is really not that hard if you open a book, read it and listen to the professors lecture.  (Isn't that an amazing concept?) Adam is doing so well in chemistry that he decided to work on his own chemistry project.  He and a friend were hungry for brownies.  It was a seven hour process that included a one hour hike to the store, 10 extra eggs, a mixing bowl that was actually a zip lock bag that could handle excessive squishing, and microwave baking because no real oven could be found.   Adam's chemistry experiment yielded brownies that were burned in the center, because the microwave bakes inside out.  But, they were the best brownies he ever tasted.\n",
    "\n",
    "Jasmine is 14 and is in her first year at Granada Hills High School. Jazz has blossomed into a beauty.  If you have not seen Jazz in a while,\n",
    "you may be surprised. Mornings equal make up.  If it took me as long to put on my makeup and do my hair as it does Jazz, I would never make it\n",
    "to work.  Of course, she is often late to school. But, it must be worth the effort because she was voted \"Best Eyes\" in her eighth grade class.\n",
    "The phone is still permanently attached to her ear and the computer is her constant companion.  She \"chats\" with more people from more countries\n",
    "than I knew existed.  Jasmine has great fashion sense. She could shop non-stop for days as long as Mom or Dad were following along behind with\n",
    "cash or credit card.  She was in 7th Heaven in Hong Kong and Japan.  Nasr worked during the day while Jazz and I shopped.  We spent the majority\n",
    "of our time in clothing stores. Somehow, the shops that carry my styles don't carry Jasmine's clothes.  So, I spent two solid weeks following\n",
    "Jasmine around small Hong Kong boutiques and massive Japanese department stores.  I don't want to even guess how much we spent, but it wasn't in\n",
    "three digits.  Of course, these clothes are now spread around her room and she cannot wait to shop for her holiday clothes because she has\n",
    "NOTHING TO WEAR!!   Jazz  says, \"I spend all my time either at the mall or at the movies.  I really like snow boarding.  Math sucks, and\n",
    "Christmas rules.\"  This is probably the most conversation I've gotten out of her in months.  Consider yourselves blessed.\n",
    "\n",
    "May the season bless all of you with great happiness and superb health.    And, we pray for a little sanity for those in the Ghoniem household\n",
    "and for those households blessed with teenagers all over the world."
   ]
  },
  {
   "cell_type": "code",
   "execution_count": null,
   "id": "9797e38b-31e8-40b1-bf8f-eb8ba1d31400",
   "metadata": {},
   "outputs": [],
   "source": []
  }
 ],
 "metadata": {
  "kernelspec": {
   "display_name": "Python 3 (ipykernel)",
   "language": "python",
   "name": "python3"
  },
  "language_info": {
   "codemirror_mode": {
    "name": "ipython",
    "version": 3
   },
   "file_extension": ".py",
   "mimetype": "text/x-python",
   "name": "python",
   "nbconvert_exporter": "python",
   "pygments_lexer": "ipython3",
   "version": "3.9.19"
  }
 },
 "nbformat": 4,
 "nbformat_minor": 5
}